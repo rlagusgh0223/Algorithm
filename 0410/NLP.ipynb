{
 "cells": [
  {
   "cell_type": "code",
   "execution_count": 2,
   "id": "ae93b0d6",
   "metadata": {},
   "outputs": [],
   "source": [
    "import pandas as pd\n",
    "\n",
    "DATA_IN_PATH = r'C:\\Users\\Owner\\Desktop\\khh\\SeoulICT\\한국어 대화 데이터셋\\KETI_대화데이터_일상_오피스'\n",
    "\n",
    "data = pd.read_csv(DATA_IN_PATH + './Chatbot_data-master/ChatBotData.csv', encoding='utf-8')"
   ]
  },
  {
   "cell_type": "code",
   "execution_count": 3,
   "id": "8bafab16",
   "metadata": {},
   "outputs": [
    {
     "name": "stdout",
     "output_type": "stream",
     "text": [
      "                 Q            A  label\n",
      "0           12시 땡!   하루가 또 가네요.      0\n",
      "1      1지망 학교 떨어졌어    위로해 드립니다.      0\n",
      "2     3박4일 놀러가고 싶다  여행은 언제나 좋죠.      0\n",
      "3  3박4일 정도 놀러가고 싶다  여행은 언제나 좋죠.      0\n",
      "4          PPL 심하네   눈살이 찌푸려지죠.      0\n"
     ]
    }
   ],
   "source": [
    "print(data.head())"
   ]
  },
  {
   "cell_type": "markdown",
   "id": "df3bffa0",
   "metadata": {},
   "source": [
    "### 데이터 길이 분석\n",
    "데이터 길이를 분석하기 위해 두 데이터를 하나의 리스트로 만들기"
   ]
  },
  {
   "cell_type": "code",
   "execution_count": 4,
   "id": "2b33404c",
   "metadata": {},
   "outputs": [],
   "source": [
    "sentences = list(data['Q']) + list(data['A'])"
   ]
  },
  {
   "cell_type": "code",
   "execution_count": 10,
   "id": "99a840e9",
   "metadata": {},
   "outputs": [],
   "source": [
    "from konlpy.tag import Okt\n",
    "tokenized_sentences = [s.split() for s in sentences]\n",
    "sent_len_by_token = [len(t) for t in tokenized_sentences]\n",
    "sent_len_by_eumjeol = [len(s.replace(' ', '')) for s in sentences]\n",
    "\n",
    "from konlpy.tag import Twitter\n",
    "\n",
    "okt = Okt()\n",
    "\n",
    "morph_tokenized_sentences = [okt.morphs(s.replace(' ', '')) for s in sentences]\n",
    "sent_len_by_morph = [len(t) for t in morph_tokenized_sentences]"
   ]
  },
  {
   "cell_type": "code",
   "execution_count": 12,
   "id": "efb669ac",
   "metadata": {},
   "outputs": [
    {
     "data": {
      "text/plain": [
       "Text(0, 0.5, 'Number of Senteces')"
      ]
     },
     "execution_count": 12,
     "metadata": {},
     "output_type": "execute_result"
    },
    {
     "data": {
      "image/png": "[encoded data removed]",
      "text/plain": [
       "<Figure size 864x360 with 1 Axes>"
      ]
     },
     "metadata": {
      "needs_background": "light"
     },
     "output_type": "display_data"
    }
   ],
   "source": [
    "# 각 기준으로 나눈 후 측정한 값 그래프로 비교\n",
    "import matplotlib.pyplot as plt\n",
    "\n",
    "plt.figure(figsize=(12,5))\n",
    "plt.hist(sent_len_by_token, bins=50, range=[0,50], alpha=0.5, color='r', label='eojeol')    # 어절\n",
    "plt.hist(sent_len_by_morph, bins=50, range=[0,50], alpha=0.5, color='g', label='morph')    # 형태소\n",
    "plt.hist(sent_len_by_eumjeol, bins=50, range=[0,50], alpha=0.5, color='b', label='eumjeol')    # 음절\n",
    "plt.title('Sentence Length Histogram')\n",
    "plt.xlabel('Sentence Length')\n",
    "plt.ylabel('Number of Senteces')"
   ]
  },
  {
   "cell_type": "code",
   "execution_count": 13,
   "id": "683482ce",
   "metadata": {},
   "outputs": [
    {
     "data": {
      "text/plain": [
       "Text(0, 0.5, 'Number of Senteces')"
      ]
     },
     "execution_count": 13,
     "metadata": {},
     "output_type": "execute_result"
    },
    {
     "data": {
      "image/png": "[encoded data removed]",
      "text/plain": [
       "<Figure size 864x360 with 1 Axes>"
      ]
     },
     "metadata": {
      "needs_background": "light"
     },
     "output_type": "display_data"
    }
   ],
   "source": [
    "# 그래프의 y값 크기를 조정\n",
    "plt.figure(figsize=(12,5))\n",
    "plt.hist(sent_len_by_token, bins=50, range=[0,50], alpha=0.5, color='r', label='eojeol')    # 어절\n",
    "plt.hist(sent_len_by_morph, bins=50, range=[0,50], alpha=0.5, color='g', label='morph')    # 형태소\n",
    "plt.hist(sent_len_by_eumjeol, bins=50, range=[0,50], alpha=0.5, color='b', label='eumjeol')    # 음절\n",
    "\n",
    "# 이것만 위에 코드에서 추가했다.\n",
    "# log : 각 그래프가 가지는 y값의 스케일을 조정함으로써\n",
    "# 차이가 큰 데이터에 대해서도 함께 비교할 수 있게 한다.\n",
    "plt.yscale('log')\n",
    "\n",
    "plt.title('Sentence Length Histogram')\n",
    "plt.xlabel('Sentence Length')\n",
    "plt.ylabel('Number of Senteces')"
   ]
  },
  {
   "cell_type": "markdown",
   "id": "b38308f8",
   "metadata": {},
   "source": [
    "어절에 대한 각 통곗값 출력"
   ]
  },
  {
   "cell_type": "code",
   "execution_count": 15,
   "id": "9ab68c96",
   "metadata": {},
   "outputs": [
    {
     "name": "stdout",
     "output_type": "stream",
     "text": [
      "어절 최대 길이 :21\n",
      "어절 최소 길이 :1\n",
      "어절 평균 길이 :3.64\n",
      "어절 길이 표준편차 :1.74\n",
      "어절 중간 길이 :3.0\n",
      "제1사분위 길이 :2.0\n",
      "제3사분위 길이 :5.0\n"
     ]
    }
   ],
   "source": [
    "import numpy as np\n",
    "\n",
    "print(\"어절 최대 길이 :{}\".format(np.max(sent_len_by_token)))\n",
    "print(\"어절 최소 길이 :{}\".format(np.min(sent_len_by_token)))\n",
    "print(\"어절 평균 길이 :{:.2f}\".format(np.mean(sent_len_by_token)))\n",
    "print(\"어절 길이 표준편차 :{:.2f}\".format(np.std(sent_len_by_token)))\n",
    "print(\"어절 중간 길이 :{}\".format(np.median(sent_len_by_token)))\n",
    "print(\"제1사분위 길이 :{}\".format(np.percentile(sent_len_by_token, 25)))\n",
    "print(\"제3사분위 길이 :{}\".format(np.percentile(sent_len_by_token, 75)))"
   ]
  },
  {
   "cell_type": "markdown",
   "id": "0555d3dc",
   "metadata": {},
   "source": [
    "형태소 통곗값 출력"
   ]
  },
  {
   "cell_type": "code",
   "execution_count": 16,
   "id": "ede037d5",
   "metadata": {},
   "outputs": [
    {
     "name": "stdout",
     "output_type": "stream",
     "text": [
      "형태소 최대 길이 :31\n",
      "형태소 최소 길이 :1\n",
      "형태소 평균 길이 :5.41\n",
      "형태소 길이 표준편차 :2.56\n",
      "형태소 중간 길이 :5.0\n",
      "제1사분위 길이 :4.0\n",
      "제3사분위 길이 :7.0\n"
     ]
    }
   ],
   "source": [
    "print(\"형태소 최대 길이 :{}\".format(np.max(sent_len_by_morph)))\n",
    "print(\"형태소 최소 길이 :{}\".format(np.min(sent_len_by_morph)))\n",
    "print(\"형태소 평균 길이 :{:.2f}\".format(np.mean(sent_len_by_morph)))\n",
    "print(\"형태소 길이 표준편차 :{:.2f}\".format(np.std(sent_len_by_morph)))\n",
    "print(\"형태소 중간 길이 :{}\".format(np.median(sent_len_by_morph)))\n",
    "print(\"제1사분위 길이 :{}\".format(np.percentile(sent_len_by_morph, 25)))\n",
    "print(\"제3사분위 길이 :{}\".format(np.percentile(sent_len_by_morph, 75)))"
   ]
  },
  {
   "cell_type": "markdown",
   "id": "8d22e6de",
   "metadata": {},
   "source": [
    "음절 통곗값 출력"
   ]
  },
  {
   "cell_type": "code",
   "execution_count": 17,
   "id": "0172c52f",
   "metadata": {},
   "outputs": [
    {
     "name": "stdout",
     "output_type": "stream",
     "text": [
      "음절 최대 길이 :57\n",
      "음절 최소 길이 :1\n",
      "음절 평균 길이 :11.31\n",
      "음절 길이 표준편차 :4.98\n",
      "음절 중간 길이 :10.0\n",
      "제1사분위 길이 :8.0\n",
      "제3사분위 길이 :14.0\n"
     ]
    }
   ],
   "source": [
    "print(\"음절 최대 길이 :{}\".format(np.max(sent_len_by_eumjeol)))\n",
    "print(\"음절 최소 길이 :{}\".format(np.min(sent_len_by_eumjeol)))\n",
    "print(\"음절 평균 길이 :{:.2f}\".format(np.mean(sent_len_by_eumjeol)))\n",
    "print(\"음절 길이 표준편차 :{:.2f}\".format(np.std(sent_len_by_eumjeol)))\n",
    "print(\"음절 중간 길이 :{}\".format(np.median(sent_len_by_eumjeol)))\n",
    "print(\"제1사분위 길이 :{}\".format(np.percentile(sent_len_by_eumjeol, 25)))\n",
    "print(\"제3사분위 길이 :{}\".format(np.percentile(sent_len_by_eumjeol, 75)))"
   ]
  },
  {
   "cell_type": "markdown",
   "id": "b15a88f8",
   "metadata": {},
   "source": [
    "전체 데이터를 한 눈에 보기 쉽게 박스 플롯으로 추력"
   ]
  },
  {
   "cell_type": "code",
   "execution_count": 18,
   "id": "c2254721",
   "metadata": {},
   "outputs": [
    {
     "data": {
      "text/plain": [
       "{'whiskers': [<matplotlib.lines.Line2D at 0x22e35ffcc10>,\n",
       "  <matplotlib.lines.Line2D at 0x22e35feb8b0>,\n",
       "  <matplotlib.lines.Line2D at 0x22e35fc4670>,\n",
       "  <matplotlib.lines.Line2D at 0x22e35fc4a00>,\n",
       "  <matplotlib.lines.Line2D at 0x22e356de370>,\n",
       "  <matplotlib.lines.Line2D at 0x22e356de700>],\n",
       " 'caps': [<matplotlib.lines.Line2D at 0x22e35febdc0>,\n",
       "  <matplotlib.lines.Line2D at 0x22e35ffa730>,\n",
       "  <matplotlib.lines.Line2D at 0x22e35fc4d90>,\n",
       "  <matplotlib.lines.Line2D at 0x22e356da160>,\n",
       "  <matplotlib.lines.Line2D at 0x22e356dea90>,\n",
       "  <matplotlib.lines.Line2D at 0x22e356dee20>],\n",
       " 'boxes': [<matplotlib.lines.Line2D at 0x22e35ffc160>,\n",
       "  <matplotlib.lines.Line2D at 0x22e34feaf10>,\n",
       "  <matplotlib.lines.Line2D at 0x22e356dafa0>],\n",
       " 'medians': [<matplotlib.lines.Line2D at 0x22e35ffac70>,\n",
       "  <matplotlib.lines.Line2D at 0x22e356da4f0>,\n",
       "  <matplotlib.lines.Line2D at 0x22e356a31f0>],\n",
       " 'fliers': [<matplotlib.lines.Line2D at 0x22e34fea520>,\n",
       "  <matplotlib.lines.Line2D at 0x22e356dac10>,\n",
       "  <matplotlib.lines.Line2D at 0x22e356a3910>],\n",
       " 'means': [<matplotlib.lines.Line2D at 0x22e34feaa90>,\n",
       "  <matplotlib.lines.Line2D at 0x22e356da880>,\n",
       "  <matplotlib.lines.Line2D at 0x22e356a3580>]}"
      ]
     },
     "execution_count": 18,
     "metadata": {},
     "output_type": "execute_result"
    },
    {
     "data": {
      "image/png": "[encoded data removed]",
      "text/plain": [
       "<Figure size 864x360 with 1 Axes>"
      ]
     },
     "metadata": {
      "needs_background": "light"
     },
     "output_type": "display_data"
    }
   ],
   "source": [
    "plt.figure(figsize=(12, 5))\n",
    "plt.boxplot([sent_len_by_token, sent_len_by_morph, sent_len_by_eumjeol],\n",
    "           labels=['Eojeol', 'Morph', 'Eumjeol'],\n",
    "           showmeans=True)"
   ]
  },
  {
   "cell_type": "markdown",
   "id": "ad7fabaf",
   "metadata": {},
   "source": [
    "### 질문, 답변 각각에 대한 문장 길이 분포 분석"
   ]
  },
  {
   "cell_type": "code",
   "execution_count": 20,
   "id": "9871843f",
   "metadata": {},
   "outputs": [],
   "source": [
    "# 형태소 기준으로 길이 분석\n",
    "query_sentences = list(data['Q'])\n",
    "answer_sentences = list(data['A'])\n",
    "\n",
    "query_morph_tokenized_sentences = [okt.morphs(s.replace(' ', '')) for s in query_sentences]\n",
    "query_sent_len_by_morph = [len(t) for t in query_morph_tokenized_sentences]\n",
    "\n",
    "answer_morph_tokenized_sentences = [okt.morphs(s.replace(' ', '')) for s in answer_sentences]\n",
    "answer_sent_len_by_morph = [len(t) for t in answer_morph_tokenized_sentences]"
   ]
  },
  {
   "cell_type": "code",
   "execution_count": 21,
   "id": "1f5f3144",
   "metadata": {},
   "outputs": [
    {
     "data": {
      "text/plain": [
       "Text(0, 0.5, 'Number of Queries')"
      ]
     },
     "execution_count": 21,
     "metadata": {},
     "output_type": "execute_result"
    },
    {
     "data": {
      "image/png": "[encoded data removed]",
      "text/plain": [
       "<Figure size 864x360 with 1 Axes>"
      ]
     },
     "metadata": {
      "needs_background": "light"
     },
     "output_type": "display_data"
    }
   ],
   "source": [
    "plt.figure(figsize=(12, 5))\n",
    "plt.hist(query_sent_len_by_morph, bins=50, range=[0, 50], color='g', label='Query')\n",
    "plt.hist(answer_sent_len_by_morph, bins=50, range=[0, 50], color='r', alpha=0.5, label='Answer')\n",
    "plt.legend()\n",
    "plt.title('Query Length Histogram by Morph Token')\n",
    "plt.xlabel('Query Length')\n",
    "plt.ylabel('Number of Queries')"
   ]
  },
  {
   "cell_type": "code",
   "execution_count": 22,
   "id": "6cdf8f4d",
   "metadata": {},
   "outputs": [
    {
     "name": "stderr",
     "output_type": "stream",
     "text": [
      "C:\\Users\\Owner\\AppData\\Local\\Temp/ipykernel_15316/1485063582.py:6: MatplotlibDeprecationWarning: The 'nonposy' parameter of __init__() has been renamed 'nonpositive' since Matplotlib 3.3; support for the old name will be dropped two minor releases later.\n",
      "  plt.yscale('log', nonposy='clip')\n"
     ]
    },
    {
     "data": {
      "text/plain": [
       "Text(0, 0.5, 'Number of Queries')"
      ]
     },
     "execution_count": 22,
     "metadata": {},
     "output_type": "execute_result"
    },
    {
     "data": {
      "image/png": "[encoded data removed]",
      "text/plain": [
       "<Figure size 864x360 with 1 Axes>"
      ]
     },
     "metadata": {
      "needs_background": "light"
     },
     "output_type": "display_data"
    }
   ],
   "source": [
    "# y값 크기 조정해서 히스토그램 다시 그려보기\n",
    "plt.figure(figsize=(12, 5))\n",
    "plt.hist(query_sent_len_by_morph, bins=50, range=[0, 50], color='g', label='Query')\n",
    "plt.hist(answer_sent_len_by_morph, bins=50, range=[0, 50], color='r', alpha=0.5, label='Answer')\n",
    "plt.legend()\n",
    "plt.yscale('log', nonposy='clip')\n",
    "plt.title('Query Length Histogram by Morph Token')\n",
    "plt.xlabel('Query Length')\n",
    "plt.ylabel('Number of Queries')"
   ]
  },
  {
   "cell_type": "code",
   "execution_count": 23,
   "id": "e8a10e46",
   "metadata": {},
   "outputs": [
    {
     "data": {
      "text/plain": [
       "{'whiskers': [<matplotlib.lines.Line2D at 0x22e36b00610>,\n",
       "  <matplotlib.lines.Line2D at 0x22e36b009a0>,\n",
       "  <matplotlib.lines.Line2D at 0x22e36b21f40>,\n",
       "  <matplotlib.lines.Line2D at 0x22e36b29310>],\n",
       " 'caps': [<matplotlib.lines.Line2D at 0x22e36b00d30>,\n",
       "  <matplotlib.lines.Line2D at 0x22e36b21100>,\n",
       "  <matplotlib.lines.Line2D at 0x22e36b296a0>,\n",
       "  <matplotlib.lines.Line2D at 0x22e36b29a30>],\n",
       " 'boxes': [<matplotlib.lines.Line2D at 0x22e36b00250>,\n",
       "  <matplotlib.lines.Line2D at 0x22e36b21bb0>],\n",
       " 'medians': [<matplotlib.lines.Line2D at 0x22e36b21490>,\n",
       "  <matplotlib.lines.Line2D at 0x22e36b29dc0>],\n",
       " 'fliers': [<matplotlib.lines.Line2D at 0x22e36b21820>,\n",
       "  <matplotlib.lines.Line2D at 0x22e36b32190>],\n",
       " 'means': []}"
      ]
     },
     "execution_count": 23,
     "metadata": {},
     "output_type": "execute_result"
    },
    {
     "data": {
      "image/png": "[encoded data removed]",
      "text/plain": [
       "<Figure size 864x360 with 1 Axes>"
      ]
     },
     "metadata": {
      "needs_background": "light"
     },
     "output_type": "display_data"
    }
   ],
   "source": [
    "# 두 데이터 박스 플롯\n",
    "plt.figure(figsize=(12, 5))\n",
    "plt.boxplot([query_sent_len_by_morph, answer_sent_len_by_morph], labels=['Query', 'Answer'])"
   ]
  },
  {
   "cell_type": "markdown",
   "id": "d9e3f6c1",
   "metadata": {},
   "source": [
    "### 데이터 어휘 빈도 분석"
   ]
  },
  {
   "cell_type": "code",
   "execution_count": 24,
   "id": "05d6ec73",
   "metadata": {},
   "outputs": [
    {
     "data": {
      "text/plain": [
       "[('오늘밤', 'Noun'), ('은', 'Josa'), ('유난히', 'Adverb'), ('덥구나', 'Adjective')]"
      ]
     },
     "execution_count": 24,
     "metadata": {},
     "output_type": "execute_result"
    }
   ],
   "source": [
    "okt.pos('오늘밤은유난히덥구나')"
   ]
  },
  {
   "cell_type": "code",
   "execution_count": 25,
   "id": "ed5cb0d5",
   "metadata": {},
   "outputs": [],
   "source": [
    "# 각 문장에서 명사, 형용사, 통사를 제외한 단어를 모두 제거한 문자열\n",
    "query_NVA_token_sentences = list()\n",
    "answer_NVA_token_sentences = list()\n",
    "\n",
    "for s in query_sentences:\n",
    "    for token, tag in okt.pos(s.replace(' ', '')):\n",
    "        if tag == 'Noun' or tag == 'Verb' or tag == 'Adjective':\n",
    "            query_NVA_token_sentences.append(token)\n",
    "            \n",
    "for s in answer_sentences:\n",
    "    temp_token_bucket = list()\n",
    "    for token, tag in okt.pos(s.replace(' ', '')):\n",
    "        if tag == 'Noun' or tag == 'Verb' or tag == 'Adjective':\n",
    "            answer_NVA_token_sentences.append(token)\n",
    "            \n",
    "query_NVA_token_sentences = ' '.join(query_NVA_token_sentences)\n",
    "answer_NVA_token_sentences = ' '.join(answer_NVA_token_sentences)"
   ]
  },
  {
   "cell_type": "markdown",
   "id": "aa2d5a13",
   "metadata": {},
   "source": [
    "# 시퀀스 투 시퀀스 모델"
   ]
  },
  {
   "cell_type": "markdown",
   "id": "0f5e6e39",
   "metadata": {},
   "source": [
    "### preprocess.py"
   ]
  },
  {
   "cell_type": "code",
   "execution_count": 26,
   "id": "91ca6d2a",
   "metadata": {},
   "outputs": [],
   "source": [
    "import os, re, json\n",
    "\n",
    "import numpy as np\n",
    "import pandas as pd\n",
    "from tqdm import tqdm\n",
    "\n",
    "from konlpy.tag import Okt\n",
    "\n",
    "FILTERS = \"([~.,!?\\\"':;)(])\"\n",
    "PAD = \"<PAD>\"    # 어떤 의미도 없틑 패딩 토큰\n",
    "STD = \"<SOS>\"    # 시작 토큰\n",
    "END = \"<END>\"    # 종료 토큰\n",
    "UNK = \"<UNK>\"    # 사전에 없는 단어\n",
    "PAD_INDEX = 0\n",
    "STD_INDEX = 1\n",
    "END_INDEX = 2\n",
    "UNK_INDEX = 3\n",
    "\n",
    "MARKER = [PAD, STD, END, UNK]\n",
    "CHANGE_FILTER = re.compile(FILTERS)\n",
    "\n",
    "MAX_SEQUENCE = 25"
   ]
  },
  {
   "cell_type": "code",
   "execution_count": 27,
   "id": "43e7fa71",
   "metadata": {},
   "outputs": [],
   "source": [
    "# 데이터를 판다스를 통해 불러오는 함수\n",
    "def load_data(path):\n",
    "    data_df = pd.read_csv(path, header=0)\n",
    "    question, answer = list(data_df['Q']), list(data_df['A'])\n",
    "    \n",
    "    return question, answer"
   ]
  },
  {
   "cell_type": "code",
   "execution_count": 28,
   "id": "e28bdabf",
   "metadata": {},
   "outputs": [],
   "source": [
    "# 단어 사전을 만들기 위해 데이터를 전처리한 후 단어 리스트로 먼저 만드는 함수\n",
    "def data_tokenizer(data):\n",
    "    words = []\n",
    "    for sentence in data:\n",
    "        sentence = re.sub(CHANGE_FILTER, \"\", sentence)\n",
    "        for word in sentence.split():\n",
    "            words.append(word)\n",
    "    return [word for word in words if word]"
   ]
  },
  {
   "cell_type": "code",
   "execution_count": 29,
   "id": "0d203d17",
   "metadata": {},
   "outputs": [],
   "source": [
    "# 한글 텍스트를 토크나이징하기 위해 형태로소 분리하는 함수\n",
    "def prepro_like_morphlized(data):\n",
    "    morph_analyzer = Okt()\n",
    "    result_data = list()\n",
    "    for seq in tqdm(data):\n",
    "        morphlized_seq = \" \".join(morph_analyzer.morphs(seq.replace(' ', '')))\n",
    "        result_data.append(morphlized_seq)\n",
    "        \n",
    "    return result_data"
   ]
  },
  {
   "cell_type": "code",
   "execution_count": 30,
   "id": "6de1550d",
   "metadata": {},
   "outputs": [],
   "source": [
    "# 단어 사전을 만드는 함수\n",
    "def load_vocabulary(path, vocab_path, tokenize_as_morph=False):\n",
    "    vocabulary_list = []\n",
    "    if not os.path.exists(vocab_path):\n",
    "        if os.path.exists(path):\n",
    "            data_df = pd.read_csv(path, encoding='utf-8')\n",
    "            question, answer = list(data_df['Q']), list(data_df['A'])\n",
    "            if tokenize_as_morph:\n",
    "                question = prepro_like_morphlized(question)\n",
    "                answer = prepro_like_morphlized(answer)\n",
    "                \n",
    "            data = []\n",
    "            data.extend(question)\n",
    "            data.extend(answer)\n",
    "            words = data_tokenizer(data)\n",
    "            words = list(set(words))\n",
    "            words[:0] = MARKER\n",
    "            \n",
    "        with open(vocab_path, 'w', encoding='utf-8') as vocabulary_file:\n",
    "            for word in words:\n",
    "                vocabulary_file.write(word + '\\n')\n",
    "                \n",
    "    with open(vocab_path, 'r', encoding='utf-8') as vocabulary_file:\n",
    "        for line in vocabulary_file:\n",
    "            vocabulary_list.append(line.strip())\n",
    "    word2idx, idx2word = make_vocabulary(vocabulary_list)\n",
    "    \n",
    "    return word2idx, idx2word, len(word2idx)"
   ]
  },
  {
   "cell_type": "code",
   "execution_count": 31,
   "id": "8a8ee4f9",
   "metadata": {},
   "outputs": [
    {
     "ename": "NameError",
     "evalue": "name 'PATH' is not defined",
     "output_type": "error",
     "traceback": [
      "\u001b[1;31m---------------------------------------------------------------------------\u001b[0m",
      "\u001b[1;31mNameError\u001b[0m                                 Traceback (most recent call last)",
      "\u001b[1;32m~\\AppData\\Local\\Temp/ipykernel_15316/445233263.py\u001b[0m in \u001b[0;36m<module>\u001b[1;34m\u001b[0m\n\u001b[0;32m      7\u001b[0m     \u001b[1;32mreturn\u001b[0m \u001b[0mword2idx\u001b[0m\u001b[1;33m,\u001b[0m \u001b[0midx2word\u001b[0m\u001b[1;33m\u001b[0m\u001b[1;33m\u001b[0m\u001b[0m\n\u001b[0;32m      8\u001b[0m \u001b[1;33m\u001b[0m\u001b[0m\n\u001b[1;32m----> 9\u001b[1;33m \u001b[0mword2idx\u001b[0m\u001b[1;33m,\u001b[0m \u001b[0midx2word\u001b[0m\u001b[1;33m,\u001b[0m \u001b[0mvocab_size\u001b[0m \u001b[1;33m=\u001b[0m \u001b[0mload_vocabulary\u001b[0m\u001b[1;33m(\u001b[0m\u001b[0mPATH\u001b[0m\u001b[1;33m,\u001b[0m \u001b[0mVOCAB_PATH\u001b[0m\u001b[1;33m)\u001b[0m\u001b[1;33m\u001b[0m\u001b[1;33m\u001b[0m\u001b[0m\n\u001b[0m",
      "\u001b[1;31mNameError\u001b[0m: name 'PATH' is not defined"
     ]
    }
   ],
   "source": [
    "def make_vocabulary(vocabulary_list):\n",
    "    # 리스트를 키가 단어이고 값이 인덱스인 딕셔너리를 만든다\n",
    "    word2idx = {word: idx for idx, word in enumerate(vocabulary_list)}\n",
    "    # 리스트를 키가 인덱스이고 값이 단어인 딕셔너리를 만든다\n",
    "    idx2word = {idx: word for idx, word in enumerate(vocabulary_list)}\n",
    "    # 두 개의 딕셔너리를 넘겨 준다\n",
    "    return word2idx, idx2word\n",
    "\n",
    "word2idx, idx2word, vocab_size = load_vocabulary(PATH, VOCAB_PATH)"
   ]
  },
  {
   "cell_type": "code",
   "execution_count": 33,
   "id": "4a7456f4",
   "metadata": {},
   "outputs": [],
   "source": [
    "# 인코더에 적용될 입력값을 만드는 전처리 함수\n",
    "def enc_processing(value, dictionary, tokenize_as_morph=False):\n",
    "    sequences_input_index = []\n",
    "    sequences_length = []\n",
    "    \n",
    "    if tokenize_as_morph:\n",
    "        value = prepro_like_morphlized(value)\n",
    "    \n",
    "    for sequence in value:\n",
    "        sequence = re.sub(CHANGE_FILTER, \"\"\"\"\"\", sequence)\n",
    "        sequence_index = []\n",
    "        for word in sequence.split():\n",
    "            if dictionary.get(word) is not None:\n",
    "                sequence_index.extend([dictionary[word]])\n",
    "            else:\n",
    "                sequence_index.extend([dictionary[UNK]])\n",
    "                \n",
    "        if len(sequence_index) > MAX_SEQUENCE:\n",
    "            sequence_index += sequence_index[:MAX_SEQUENCE]\n",
    "            \n",
    "        sequences_length.append(len(sequence_index))\n",
    "        sequence_index += (MAX_SEQUENCE - len(sequence_index)) * [dictionary[PAD]]\n",
    "        \n",
    "        sequence_input_index.append(sequence_index)\n",
    "        \n",
    "    return np.asarray(sequences_input_index), sequences_length"
   ]
  },
  {
   "cell_type": "code",
   "execution_count": null,
   "id": "b41391d3",
   "metadata": {},
   "outputs": [],
   "source": []
  }
 ],
 "metadata": {
  "kernelspec": {
   "display_name": "Python 3 (ipykernel)",
   "language": "python",
   "name": "python3"
  },
  "language_info": {
   "codemirror_mode": {
    "name": "ipython",
    "version": 3
   },
   "file_extension": ".py",
   "mimetype": "text/x-python",
   "name": "python",
   "nbconvert_exporter": "python",
   "pygments_lexer": "ipython3",
   "version": "3.9.7"
  }
 },
 "nbformat": 4,
 "nbformat_minor": 5
}
